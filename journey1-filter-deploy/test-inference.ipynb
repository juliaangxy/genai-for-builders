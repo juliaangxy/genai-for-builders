{
 "cells": [
  {
   "cell_type": "markdown",
   "id": "85932046-8797-4ee3-bc2d-abb1d20f4210",
   "metadata": {},
   "source": [
    "## This notebook will test the deployed endpoint with examples. "
   ]
  },
  {
   "cell_type": "markdown",
   "id": "8fb44f9c-38b7-4574-ac2d-8e15e398ba04",
   "metadata": {},
   "source": [
    "### Update SageMaker"
   ]
  },
  {
   "cell_type": "code",
   "execution_count": null,
   "id": "aa426dfe-248e-45bb-9993-814588b934a2",
   "metadata": {},
   "outputs": [],
   "source": [
    "!pip install -U sagemaker"
   ]
  },
  {
   "cell_type": "markdown",
   "id": "28163ce9-3409-474d-bb47-bee04e048058",
   "metadata": {},
   "source": [
    "### Restart kernel and then execute the next cell."
   ]
  },
  {
   "cell_type": "code",
   "execution_count": null,
   "id": "202a497e-80f6-4b2e-9d0c-1497e71900b8",
   "metadata": {},
   "outputs": [],
   "source": [
    "import boto3\n",
    "import datetime\n",
    "\n",
    "client = boto3.client('sagemaker')\n",
    "endpoint_name = client.list_endpoints(\n",
    "    NameContains='meta-textgeneration-l',\n",
    "    CreationTimeAfter=datetime.datetime.now().strftime(\"%Y-%m-%d\"),\n",
    "    StatusEquals='InService'\n",
    ")['Endpoints'][0]['EndpointName']\n",
    "endpoint_name"
   ]
  },
  {
   "cell_type": "code",
   "execution_count": null,
   "id": "73a91b49-06bc-4f58-b77b-2826956561b2",
   "metadata": {},
   "outputs": [],
   "source": [
    "inference_conponent_name = response = client.list_inference_components(\n",
    "    SortBy='CreationTime',\n",
    "    SortOrder='Descending',\n",
    "    StatusEquals='InService',\n",
    "    EndpointNameEquals=endpoint_name\n",
    ")['InferenceComponents'][0]['InferenceComponentName']\n",
    "inference_conponent_name"
   ]
  },
  {
   "cell_type": "code",
   "execution_count": null,
   "id": "cdf98bec-855d-4659-9ac0-8d6b90ab4e4b",
   "metadata": {},
   "outputs": [],
   "source": [
    "import json\n",
    "\n",
    "zero_shot_prompts = [\n",
    "    \"I believe the meaning of life is\",\n",
    "    \"Simply put, the theory of relativity states that \",\n",
    "    \"\"\"A brief message congratulating the team on the launch:\n",
    "\n",
    "Hi everyone,\n",
    "\n",
    "I just \"\"\",\n",
    "]\n",
    "few_shot_prompts = [\n",
    "    \"\"\"Translate English to French:\n",
    "sea otter => loutre de mer\n",
    "peppermint => menthe poivrée\n",
    "plush girafe => girafe peluche\n",
    "cheese =>\"\"\",\n",
    "]\n",
    "\n",
    "payloads = []\n",
    "for prompt in zero_shot_prompts:\n",
    "    payloads.append(\n",
    "        {\n",
    "            \"inputs\": prompt, \n",
    "            \"parameters\": {\"max_new_tokens\": 64, \"top_p\": 0.9, \"temperature\": 0.6, \"return_full_text\": False},\n",
    "        }\n",
    "    )\n",
    "for prompt in few_shot_prompts:\n",
    "    payloads.append(\n",
    "        {\n",
    "            \"inputs\": prompt, \n",
    "            \"parameters\": {\"max_new_tokens\": 64, \"top_p\": 0.9, \"temperature\": 0.6, \"return_full_text\": False},\n",
    "        }\n",
    "    )\n",
    "\n",
    "\n",
    "def query_endpoint(payload):\n",
    "    client = boto3.client(\"sagemaker-runtime\")\n",
    "    response = client.invoke_endpoint(\n",
    "        EndpointName=endpoint_name, InferenceComponentName=inference_conponent_name,\n",
    "        ContentType=\"application/json\",\n",
    "        Body=json.dumps(payload),\n",
    "    )\n",
    "    response = response[\"Body\"].read().decode(\"utf8\")\n",
    "    response = json.loads(response)\n",
    "    return response\n",
    "\n",
    "for payload in payloads:\n",
    "    query_response = query_endpoint(payload)\n",
    "    print(payload[\"inputs\"])\n",
    "    print(f\"> {query_response[0]['generated_text']}\")\n",
    "    print(\"\\n======\\n\")\n"
   ]
  }
 ],
 "metadata": {
  "kernelspec": {
   "display_name": "Python 3 (ipykernel)",
   "language": "python",
   "name": "python3"
  },
  "language_info": {
   "codemirror_mode": {
    "name": "ipython",
    "version": 3
   },
   "file_extension": ".py",
   "mimetype": "text/x-python",
   "name": "python",
   "nbconvert_exporter": "python",
   "pygments_lexer": "ipython3",
   "version": "3.10.13"
  }
 },
 "nbformat": 4,
 "nbformat_minor": 5
}
